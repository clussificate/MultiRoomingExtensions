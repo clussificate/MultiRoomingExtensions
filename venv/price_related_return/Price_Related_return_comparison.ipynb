{
 "cells": [
  {
   "cell_type": "code",
   "execution_count": 3,
   "metadata": {},
   "outputs": [],
   "source": [
    "from dual import dual \n",
    "from uniform import uniform\n",
    "import logging\n",
    "import numpy as np\n",
    "import pandas as pd\n",
    "import matplotlib.pyplot as plt\n",
    "import datetime\n"
   ]
  },
  {
   "cell_type": "markdown",
   "metadata": {},
   "source": [
    "### This implementation has not been parallized."
   ]
  },
  {
   "cell_type": "code",
   "execution_count": 4,
   "metadata": {},
   "outputs": [],
   "source": [
    "def get_uniform_result(c, con, cr, return_prop, step, density):\n",
    "    uniform_ins = uniform(c=c, con=con, return_prop=return_prop, cr=cr, step=step, density=density)\n",
    "    return uniform_ins.p, uniform_ins.profit\n",
    "\n",
    "\n",
    "def get_dual_result(c, con, cr, return_prop, step, density):\n",
    "    dual_ins = dual(c=c, con=con, return_prop=return_prop, cr=cr, step=step, density=density)\n",
    "    return dual_ins.pon, dual_ins.poff, dual_ins.profit\n",
    "\n",
    "\n",
    "def main(ms, filenames, plot=False):\n",
    "    for m, filename in zip(ms, filenames):\n",
    "        p_list = []\n",
    "        piu_list = []\n",
    "\n",
    "        pon_list = []\n",
    "        poff_list = []\n",
    "        pid_list = []\n",
    "\n",
    "        cr = 0.32\n",
    "        con = 0.05\n",
    "        step = 0.001\n",
    "        density = 0.001\n",
    "        sel_c = np.arange(0.1, 0.181, 0.0025)\n",
    "\n",
    "        results_uniform = []\n",
    "        results_dual = []\n",
    "\n",
    "        for c in sel_c:\n",
    "            results_uniform.append(get_uniform_result(c=c, con=con, cr=cr, return_prop=m, step=step, density=density))\n",
    "            results_dual.append(get_dual_result(c=c, con=con, cr=cr, return_prop=m, step=step, density=density))\n",
    "\n",
    "\n",
    "        for result_uniform, result_dual in zip(results_uniform, results_dual):\n",
    "            p_list.append(result_uniform[0])\n",
    "            piu_list.append(result_uniform[1])\n",
    "\n",
    "            pon_list.append(result_dual[0])\n",
    "            poff_list.append(result_dual[1])\n",
    "            pid_list.append(result_dual[2])\n",
    "\n",
    "        if plot:\n",
    "            fig = plt.figure(figsize=(5, 8))\n",
    "            ax1 = fig.add_subplot(2, 1, 1)\n",
    "            ax1.plot(sel_c, piu_list, c='red', ls='--', ms=6, marker='*', label=\"Uniform\")\n",
    "            ax1.plot(sel_c, pid_list, c='blue', ls='--', ms=6, marker='o', label=\"Dual\")\n",
    "\n",
    "            ax2 = fig.add_subplot(2, 1, 2)\n",
    "            ax2.plot(sel_c, p_list, c='red', ls='--', ms=6, marker='*', label=\"Uniform\")\n",
    "            ax2.plot(sel_c, pon_list, c='blue', ls='--', ms=6, marker='o', label=\"Online of Dual\")\n",
    "            ax2.plot(sel_c, poff_list, c='green', ls='--', ms=6, marker='D',\n",
    "                     label=\"Offline of Dual\")\n",
    "\n",
    "            ax1.legend(prop=dict(size=9), frameon=False)\n",
    "            ax1.set_ylabel(\"Profits\", fontsize=16)\n",
    "            ax1.set_xlabel(\"c\", fontsize=16)\n",
    "\n",
    "            ax2.legend(prop=dict(size=9), frameon=False)\n",
    "            ax2.set_ylabel(\"Prices\", fontsize=16)\n",
    "            ax2.set_xlabel(\"c\", fontsize=16)\n",
    "\n",
    "            plt.tight_layout()\n",
    "            plt.show()\n",
    "\n",
    "        cols = [\"c\", \"p_u\", \"pi_u\", \"pon\", \"poff\", \"pi_d\"]\n",
    "        data = np.array([sel_c, p_list, piu_list, pon_list, poff_list, pid_list]).T\n",
    "\n",
    "        data_frame = pd.DataFrame(data=data, columns=cols)\n",
    "        data_frame.to_excel(filename, index=False)\n",
    "\n",
    "        logger.info(\"a work is finished...\")"
   ]
  },
  {
   "cell_type": "code",
   "execution_count": 7,
   "metadata": {},
   "outputs": [
    {
     "name": "stderr",
     "output_type": "stream",
     "text": [
      "INFO:compare:a work is finished...\n",
      "INFO:compare:a work is finished...\n",
      "INFO:compare:a work is finished...\n",
      "INFO:compare:Total time: 547 seconds\n"
     ]
    }
   ],
   "source": [
    "logging.basicConfig()\n",
    "logger = logging.getLogger(\"compare\")\n",
    "logger.setLevel(logging.INFO)\n",
    "\n",
    "start_time = datetime.datetime.now()\n",
    "filenames = [\"output_m_1.xlsx\", \"output_m_1p5.xlsx\", \"output_m_3.xlsx\"]\n",
    "ms = [1, 1.5, 2]  # sensitivity of return probability\n",
    "main(ms, filenames)\n",
    "end_time = datetime.datetime.now()\n",
    "logger.info(\"Total time: {} seconds\".format((end_time - start_time).seconds))"
   ]
  },
  {
   "cell_type": "code",
   "execution_count": null,
   "metadata": {},
   "outputs": [],
   "source": []
  }
 ],
 "metadata": {
  "kernelspec": {
   "display_name": "Python 3",
   "language": "python",
   "name": "python3"
  },
  "language_info": {
   "codemirror_mode": {
    "name": "ipython",
    "version": 3
   },
   "file_extension": ".py",
   "mimetype": "text/x-python",
   "name": "python",
   "nbconvert_exporter": "python",
   "pygments_lexer": "ipython3",
   "version": "3.7.3"
  }
 },
 "nbformat": 4,
 "nbformat_minor": 2
}
