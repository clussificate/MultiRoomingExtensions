{
 "cells": [
  {
   "cell_type": "code",
   "execution_count": 1,
   "metadata": {},
   "outputs": [],
   "source": [
    "import numpy as np\n",
    "EPSILON=0.000001"
   ]
  },
  {
   "cell_type": "code",
   "execution_count": 2,
   "metadata": {},
   "outputs": [],
   "source": [
    "def myround(num):\n",
    "    num = num if abs(num)>EPSILON else 0\n",
    "    return num"
   ]
  },
  {
   "cell_type": "code",
   "execution_count": 3,
   "metadata": {},
   "outputs": [],
   "source": [
    "def case_check(pon, poffs, c, con):\n",
    "    if poffs>1/2 * pon + 2*c and pon < 4*c and poffs < 1-2*c and poffs < pon + con:\n",
    "        return 1\n",
    "    else:\n",
    "        return 0"
   ]
  },
  {
   "cell_type": "code",
   "execution_count": 4,
   "metadata": {},
   "outputs": [],
   "source": [
    "def calculate_prior_demand(pon, poffs, c,con):\n",
    "    alpha_o = 1/(2*con) *(2-2*pon-4*c)*(2*c-1/2*pon)\n",
    "    alpha_so_prior = 1/(2*con) *(2-6*c - poffs-1/2 *pon)*(poffs-1/2*pon-2*c)\n",
    "    alpha_ss_prior  = 1/(con) *(con-poffs+pon)*( 1- poffs -2*c)\n",
    "    alpha_s = alpha_so_prior + alpha_ss_prior\n",
    "    alpha_l = 1-alpha_o-alpha_s\n",
    "    \n",
    "    alpha_o = myround(alpha_o)\n",
    "    alpha_s = myround(alpha_s)\n",
    "    alpha_l = myround(alpha_l)\n",
    "    \n",
    "    return alpha_o, alpha_s, alpha_l"
   ]
  },
  {
   "cell_type": "code",
   "execution_count": 5,
   "metadata": {},
   "outputs": [],
   "source": [
    "def calculate_store_demand(pon, poff, c, con, alpha_s):\n",
    "    if pon<=poff<=pon+con:\n",
    "        prop_ss = 1/con *(con - poff+pon)*(1-poff)\n",
    "        prop_so= 1/(2*con) *(2-poff-pon)*(poff-pon)\n",
    "    elif poff > pon+con:\n",
    "        prop_ss=0\n",
    "        prop_so=1/(2*con) *(2-2*pon-con)*con\n",
    "    else:\n",
    "        prop_ss=1/(con)*(1-poff)*con\n",
    "        prop_so=0\n",
    "        \n",
    "    prop_ss = prop_ss\n",
    "    prop_so = prop_so\n",
    "    \n",
    "    alpha_ss = myround(alpha_s * prop_ss)\n",
    "    alpha_so = myround(alpha_s * prop_so)\n",
    "    \n",
    "    return alpha_ss, alpha_so"
   ]
  },
  {
   "cell_type": "code",
   "execution_count": 6,
   "metadata": {},
   "outputs": [],
   "source": [
    "def cal_profit(pon, poff,cr,alpha_o,alpha_ss,alpha_so):\n",
    "    store_profit = 1/2 *alpha_ss * poff + 1/2 * alpha_so * pon      #  w.p 1/2, we have a=a_H,\n",
    "    online_direct_profit = alpha_o*( 1/2 * pon + 1/4 * (pon - cr))  # w.p 1/2, we have a=a_H, if a=a_L, w.p. 1/2, product return\n",
    "    profit= 1/2 * (online_direct_profit  +  store_profit)         # w.p 1/2, we have b=b_H\n",
    "    return profit"
   ]
  },
  {
   "cell_type": "code",
   "execution_count": 7,
   "metadata": {},
   "outputs": [],
   "source": [
    "def cal_profit_store(pon, poff,alpha_ss,alpha_so):\n",
    "    \"\"\"\n",
    "    This method optimizes the retailer's profit from instore consumers\n",
    "    \"\"\"\n",
    "    store_profit = 1/2 *alpha_ss * poff + 1/2 * alpha_so * pon      #  w.p 1/2, we have a=a_H,\n",
    "    return 1/2*store_profit"
   ]
  },
  {
   "cell_type": "code",
   "execution_count": 22,
   "metadata": {},
   "outputs": [],
   "source": [
    "def FindRationalExpectations(pon, poffs, c, con, alpha_s):\n",
    "    max_store_profit = 0\n",
    "    max_store_price = 0\n",
    "    for poff in np.arange(0, 1, 0.01):\n",
    "        alpha_ss, alpha_so = calculate_store_demand(pon=pon, poff=poff,\n",
    "                                                    c=c, con=con, alpha_s=alpha_s)\n",
    "        if alpha_ss > 1 or alpha_ss < 0.0 or alpha_so > 1 or alpha_so < 0.0:\n",
    "            print(\"error instore demand\")\n",
    "            print(\"poffs: {}, poff: {},ss: {},so: {}\".format(\n",
    "                poffs, poff, alpha_ss, alpha_so))\n",
    "        current_profit_store = cal_profit_store(pon=pon, poff=poff, alpha_ss=alpha_ss, alpha_so=alpha_so)\n",
    "        if max_store_profit < current_profit_store:\n",
    "            max_store_profit = current_profit_store\n",
    "\n",
    "    if abs(poffs - max_store_price) >= EPSILON:\n",
    "        return False, None, None  # no RE in current poffs\n",
    "    else:\n",
    "        return True, max_store_profit, max_store_price\n"
   ]
  },
  {
   "cell_type": "code",
   "execution_count": 23,
   "metadata": {},
   "outputs": [],
   "source": [
    "# def solve_equilibrium(c, cr, con):\n",
    "#     optimal_total_profit = 0\n",
    "#     ponstar = 0\n",
    "#     for pon in np.arange(0, 1, 0.01):\n",
    "# #         print(\"-------------current pon: {}---------------\".format(pon))\n",
    "#         store_profit_givenpon = 0\n",
    "#         alpha_ss_givenpon =0\n",
    "#         alpha_so_givenpon =0\n",
    "#         alpha_o_givenpon=0\n",
    "#         total_profit_givenpon=0\n",
    "        \n",
    "#         optimal_RE_profit_givenpon=0 # the profit from a potential RE, given pon\n",
    "# #         current_total_profit=0 # RE that gives the highest profit, given a pon\n",
    "        \n",
    "#         for poffs in np.arange(0, 1, 0.01):\n",
    "#             current_case = case_check(pon=pon, poffs=poffs, c=c, con=con)\n",
    "#             if current_case:  # print(\"current poffs: {}\".format(poffs))\n",
    "#                 alpha_o, alpha_s, alpha_l = calculate_prior_demand(pon=pon, poffs=poffs, c=c, con=con)\n",
    "#                 if alpha_o>1 or alpha_o<0 or alpha_s>1 or alpha_s<0: \n",
    "#                     print(\"error prior demand\")\n",
    "#             else:\n",
    "#                 continue\n",
    "            \n",
    "#             # if prior offline demand is zero, find the next poffs\n",
    "#             if not alpha_s:\n",
    "#                 alpha_ss_givenpon =0\n",
    "#                 alpha_so_givenpon =0\n",
    "#                 alpha_o_givenpon=alpha_o\n",
    "#                 total_profit_givenpon_givenpoffs=cal_profit(pon=pon, poff=poffs,cr=cr,alpha_o=alpha_o_givenpon,\n",
    "#                                         alpha_ss=alpha_ss_givenpon,alpha_so=alpha_so_givenpon)\n",
    "#                 if total_profit_givenpon<total_profit_givenpon_givenpoffs:\n",
    "#                     total_profit_givenpon=total_profit_givenpon\n",
    "#                 continue\n",
    "            \n",
    "#             # start to solve for rational expectation equilibrium    \n",
    "#             poffstar = 0    \n",
    "#             potential_alpha_ss =0\n",
    "#             potential_alpha_so =0\n",
    "#             potential_alpha_o=0\n",
    "#             potential_store_profit = 0\n",
    "            \n",
    "#             for poff in np.arange(0, 1.01, 0.01):\n",
    "#                 alpha_ss, alpha_so = calculate_store_demand(pon=pon,poff=poff, \n",
    "#                                                             c=c, con=con,alpha_s=alpha_s)\n",
    "#                 if alpha_ss>1 or alpha_ss<0.0 or alpha_so>1 or alpha_so<0.0: \n",
    "#                     print(\"error instore demand\")\n",
    "#                     print(\"poffs: {}, poff: {},ss: {},so: {}\".format(\n",
    "#                         poffs, poff, prop_ss,prop_so))\n",
    "                        \n",
    "#                 # solve optimal poff w.r.t. total profit \n",
    "#                 # current_profit = cal_profit(pon=pon, poff=poff,cr=cr,alpha_o=alpha_o,alpha_ss=alpha_ss,alpha_so=alpha_so) \n",
    "#                 # solve optimal poff w.r.t. store profit. Given pon and poffs, the two methods are equivalent.\n",
    "#                 current_profit_store = cal_profit_store(pon=pon, poff=poff, alpha_ss=alpha_ss, alpha_so=alpha_so) \n",
    "#                 if potential_store_profit < current_profit_store:\n",
    "#                     potential_store_profit = current_profit_store\n",
    "#                     poffstar=poff\n",
    "#                     potential_alpha_ss=alpha_ss\n",
    "#                     potential_alpha_so=alpha_so\n",
    "#                     potential_alpha_o=alpha_o\n",
    "#             # print(\"optimal profit:{},poffs: {},poffstar: {}\".format(optimal_profit,poffs,poffstar))\n",
    "            \n",
    "#             # If poffs= poff*, we find a possible RE \n",
    "#             if abs(poffs - poffstar)>=EPSILON:\n",
    "#                 continue\n",
    "#             else:\n",
    "#             # print(\"alpha so:\", optimal_alpha_so)\n",
    "#             # Given pon and poffs, find a potential RE.\n",
    "#                 RE_profit_givenpon_givenpoffs=cal_profit(pon=pon, poff=poffstar,cr=cr,alpha_o=potential_alpha_o,\n",
    "#                                         alpha_ss=potential_alpha_ss,alpha_so=potential_alpha_so) \n",
    "#                 if RE_profit_givenpon <  RE_profit_givenpon_givenpoffs:\n",
    "#                     RE_profit_givenpon=RE_profit_givenpon_givenpoffs\n",
    "                    \n",
    "#                     optimal_alpha_ss=potential_alpha_ss\n",
    "#                     optimal_alpha_so=potential_alpha_so\n",
    "#                     optimal_alpha_o=potential_alpha_o\n",
    "#                     poffstar=poff\n",
    "#                     print(\"current pon: {}, poffs:{}\".format(pon, poffs))\n",
    "#                     print(\"poffstar: {}; optimal profit:{}, store profit:{}, online profit:{}\".format(\n",
    "#                         poffstar, current_optimal_RE_profit, optimal_store_profit,current_optimal_RE_profit- optimal_store_profit))\n",
    "#                 # print(\"{}\".format(optimal_alpha_o, optimal_alpha_ss, optimal_alpha_so))\n",
    "\n",
    "#         if optimal_total_profit<current_optimal_RE_profit:\n",
    "#             optimal_total_profit = current_optimal_RE_profit\n",
    "#             ponstar=pon\n",
    "#     if ponstar:\n",
    "#         print(\"ponstar: {}, optimal profit: {}\".format(ponstar, optimal_total_profit))"
   ]
  },
  {
   "cell_type": "code",
   "execution_count": 24,
   "metadata": {},
   "outputs": [],
   "source": [
    "# -*- coding: utf-8 -*-\n",
    "\"\"\"\n",
    "@Created at 2022/4/29 10:19\n",
    "@Author: Kurt\n",
    "@file:main.py\n",
    "@Desc:\n",
    "\"\"\"\n",
    "def solve_equilibrium(c, cr, con):\n",
    "    optimal_total_profit = 0  # the RE that maximizes total profit for any pon.\n",
    "    optimal_poffs = 0\n",
    "    optimal_poff = 0\n",
    "    optimal_pon = 0\n",
    "    for pon in np.arange(0, 1, 0.01):\n",
    "        # given pon, find potential REs.\n",
    "        RE_profit_givenpon = 0  # the RE that maximizes total profit given pon.\n",
    "        poffs_givenpon = 0\n",
    "        poffstar_givenpon = 0\n",
    "\n",
    "        # star to find REs\n",
    "        for poffs in np.arange(0, 1, 0.01):\n",
    "            current_case = case_check(pon=pon, poffs=poffs, c=c, con=con)\n",
    "            if current_case:  # print(\"current poffs: {}\".format(poffs))\n",
    "                alpha_o, alpha_s, alpha_l = calculate_prior_demand(pon=pon, poffs=poffs, c=c, con=con)\n",
    "                if alpha_o > 1 or alpha_o < 0 or alpha_s > 1 or alpha_s < 0:\n",
    "                    print(\"error prior demand\")\n",
    "            else:\n",
    "                continue\n",
    "\n",
    "            if not alpha_s:\n",
    "                # for a zero prior store demand, RE exists\n",
    "                RE_profit_givenpon_zero_store_demand = cal_profit(pon=pon, cr=cr, alpha_o=alpha_o, store_profit=0)\n",
    "                if RE_profit_givenpon < RE_profit_givenpon_zero_store_demand:\n",
    "                    RE_profit_givenpon = RE_profit_givenpon_zero_store_demand\n",
    "                continue  # look for the next poffs\n",
    "\n",
    "            # if prior store demand >0, start to find a RE\n",
    "            found, store_profit, store_price = FindRationalExpectations(pon=pon, poffs=poffs, c=c, con=con,\n",
    "                                                                        alpha_s=alpha_s)\n",
    "\n",
    "            if found:\n",
    "                # Given pon, if we find a RE in the current poffs, compare it with optimal RE collected in other poffs.\n",
    "                potential_RE_profit_givenpon = cal_profit(pon=pon, cr=cr, alpha_o=alpha_o,\n",
    "                                                          store_profit=store_profit)\n",
    "                if RE_profit_givenpon < potential_RE_profit_givenpon:\n",
    "                    RE_profit_givenpon = potential_RE_profit_givenpon\n",
    "                    poffs_givenpon = store_price\n",
    "                    poffstar_givenpon = store_price\n",
    "            else:\n",
    "                continue\n",
    "\n",
    "        if optimal_total_profit < RE_profit_givenpon:\n",
    "            optimal_total_profit = RE_profit_givenpon\n",
    "            optimal_poff = poffstar_givenpon\n",
    "            optimal_poffs = poffs_givenpon\n",
    "            optimal_pon = pon\n",
    "            \n",
    "    if optimal_pon:\n",
    "        print(\"ponstar: {}, poffs:{}, poffstar:{}, profit:{}\".format(\n",
    "            optimal_pon, optimal_poffs, optimal_poff, optimal_total_profit))\n",
    "\n",
    "    return optimal_pon, optimal_poffs, optimal_poff, optimal_total_profit"
   ]
  },
  {
   "cell_type": "code",
   "execution_count": 25,
   "metadata": {},
   "outputs": [
    {
     "name": "stdout",
     "output_type": "stream",
     "text": [
      "----current c: 0.0-------------\n",
      "----current c: 0.05-------------\n",
      "----current c: 0.1-------------\n",
      "----current c: 0.15000000000000002-------------\n"
     ]
    }
   ],
   "source": [
    "for c in np.arange(0.0, 0.2,0.05):\n",
    "    print(\"----current c: {}-------------\".format(c))\n",
    "    solve_equilibrium(c=c, cr=0.1, con=0.2)"
   ]
  },
  {
   "cell_type": "code",
   "execution_count": 32,
   "metadata": {},
   "outputs": [
    {
     "name": "stdout",
     "output_type": "stream",
     "text": [
      "alpha s: 0.6283125\n",
      "0.017750000000000016 0.275200875 0.19352025000000006\n",
      "store profit: 0.027768, totoal profit: 0.028811\n",
      "online profit: 0.0010428, 0.0010428\n"
     ]
    }
   ],
   "source": [
    "con=0.2\n",
    "cr=0.1\n",
    "c=0.05\n",
    "pon=0.19\n",
    "poff=0.27\n",
    "poffs=0.27\n",
    "\n",
    "alpha_o, alpha_s, alpha_l = calculate_prior_demand(pon=pon, poffs=poffs, c=c, con=con)\n",
    "print(\"alpha s:\", alpha_s)\n",
    "\n",
    "alpha_ss, alpha_so = calculate_store_demand(pon=pon,poff=poff, c=c, con=con,alpha_s=alpha_s)\n",
    "\n",
    "print(alpha_o, alpha_ss, alpha_so)\n",
    "\n",
    "alpha_o = 1/(2*con) *(2-2*pon-4*c)*(2*c-1/2*pon)\n",
    "profit_online = 1/2 *alpha_o*( 1/2 * pon + 1/4 * (pon - cr))\n",
    "store=cal_profit_store(pon=pon, poff=poff, alpha_ss=alpha_ss, alpha_so=alpha_so)\n",
    "total=cal_profit(pon=pon, poff=poffs,cr=cr,alpha_o=alpha_o,alpha_ss=alpha_ss,alpha_so=alpha_so)\n",
    "print(\"store profit: {:.5}, totoal profit: {:.5}\".format(store,total))\n",
    "print(\"online profit: {:.5}, {:.5}\".format(total-store, profit_online))"
   ]
  },
  {
   "cell_type": "code",
   "execution_count": 35,
   "metadata": {},
   "outputs": [],
   "source": [
    "def cal_store_profit(pon, poff, alpha_ss, alpha_so):\n",
    "    \"\"\"\n",
    "    This method optimizes the retailer's profit from instore consumers\n",
    "    \"\"\"\n",
    "    store_profit = 1 / 2 * alpha_ss * poff + 1 / 2 * alpha_so * pon  # w.p 1/2, we have a=a_H,\n",
    "    return 1 / 2 * store_profit"
   ]
  },
  {
   "cell_type": "code",
   "execution_count": 41,
   "metadata": {},
   "outputs": [],
   "source": [
    "def FindRationalExpectations(pon, poffs, c, con, alpha_s):\n",
    "    max_store_profit = 0\n",
    "    max_store_price = 0\n",
    "    for poff in np.arange(0, 1, 0.01):\n",
    "        alpha_ss, alpha_so = calculate_store_demand(pon=pon, poff=poff,\n",
    "                                                    c=c, con=con, alpha_s=alpha_s)\n",
    "        if alpha_ss > 1 or alpha_ss < 0.0 or alpha_so > 1 or alpha_so < 0.0:\n",
    "            print(\"error instore demand\")\n",
    "            print(\"poffs: {}, poff: {},ss: {},so: {}\".format(\n",
    "                poffs, poff, alpha_ss, alpha_so))\n",
    "        current_profit_store = cal_store_profit(pon=pon, poff=poff, alpha_ss=alpha_ss, alpha_so=alpha_so)\n",
    "        print(\"current poff: {:.5}, current store profit: {:.5}\".format(poff, current_profit_store))\n",
    "        if max_store_profit < current_profit_store:\n",
    "            max_store_profit = current_profit_store\n",
    "            max_store_price = poff\n",
    "\n",
    "    print(\"poffs:{}, Max store pirce：{}\".format(poffs, max_store_price))\n",
    "\n",
    "    if abs(poffs - max_store_price) >= EPSILON:\n",
    "        return False, None, None  # no RE in current poffs\n",
    "    else:\n",
    "        return True, max_store_profit, max_store_price\n"
   ]
  },
  {
   "cell_type": "code",
   "execution_count": 42,
   "metadata": {},
   "outputs": [
    {
     "name": "stdout",
     "output_type": "stream",
     "text": [
      "current poff: 0.0, current store profit: 0.0\n",
      "current poff: 0.01, current store profit: 0.0015551\n",
      "current poff: 0.02, current store profit: 0.0030787\n",
      "current poff: 0.03, current store profit: 0.004571\n",
      "current poff: 0.04, current store profit: 0.0060318\n",
      "current poff: 0.05, current store profit: 0.0074612\n",
      "current poff: 0.06, current store profit: 0.0088592\n",
      "current poff: 0.07, current store profit: 0.010226\n",
      "current poff: 0.08, current store profit: 0.011561\n",
      "current poff: 0.09, current store profit: 0.012865\n",
      "current poff: 0.1, current store profit: 0.014137\n",
      "current poff: 0.11, current store profit: 0.015378\n",
      "current poff: 0.12, current store profit: 0.016587\n",
      "current poff: 0.13, current store profit: 0.017766\n",
      "current poff: 0.14, current store profit: 0.018912\n",
      "current poff: 0.15, current store profit: 0.020027\n",
      "current poff: 0.16, current store profit: 0.021111\n",
      "current poff: 0.17, current store profit: 0.022164\n",
      "current poff: 0.18, current store profit: 0.023185\n",
      "current poff: 0.19, current store profit: 0.024174\n",
      "current poff: 0.2, current store profit: 0.025077\n",
      "current poff: 0.21, current store profit: 0.025841\n",
      "current poff: 0.22, current store profit: 0.02647\n",
      "current poff: 0.23, current store profit: 0.02697\n",
      "current poff: 0.24, current store profit: 0.027345\n",
      "current poff: 0.25, current store profit: 0.0276\n",
      "current poff: 0.26, current store profit: 0.02774\n",
      "current poff: 0.27, current store profit: 0.027768\n",
      "current poff: 0.28, current store profit: 0.027691\n",
      "current poff: 0.29, current store profit: 0.027512\n",
      "current poff: 0.3, current store profit: 0.027237\n",
      "current poff: 0.31, current store profit: 0.02687\n",
      "current poff: 0.32, current store profit: 0.026415\n",
      "current poff: 0.33, current store profit: 0.025879\n",
      "current poff: 0.34, current store profit: 0.025264\n",
      "current poff: 0.35, current store profit: 0.024576\n",
      "current poff: 0.36, current store profit: 0.023821\n",
      "current poff: 0.37, current store profit: 0.023001\n",
      "current poff: 0.38, current store profit: 0.022122\n",
      "current poff: 0.39, current store profit: 0.02119\n",
      "current poff: 0.4, current store profit: 0.02119\n",
      "current poff: 0.41, current store profit: 0.02119\n",
      "current poff: 0.42, current store profit: 0.02119\n",
      "current poff: 0.43, current store profit: 0.02119\n",
      "current poff: 0.44, current store profit: 0.02119\n",
      "current poff: 0.45, current store profit: 0.02119\n",
      "current poff: 0.46, current store profit: 0.02119\n",
      "current poff: 0.47, current store profit: 0.02119\n",
      "current poff: 0.48, current store profit: 0.02119\n",
      "current poff: 0.49, current store profit: 0.02119\n",
      "current poff: 0.5, current store profit: 0.02119\n",
      "current poff: 0.51, current store profit: 0.02119\n",
      "current poff: 0.52, current store profit: 0.02119\n",
      "current poff: 0.53, current store profit: 0.02119\n",
      "current poff: 0.54, current store profit: 0.02119\n",
      "current poff: 0.55, current store profit: 0.02119\n",
      "current poff: 0.56, current store profit: 0.02119\n",
      "current poff: 0.57, current store profit: 0.02119\n",
      "current poff: 0.58, current store profit: 0.02119\n",
      "current poff: 0.59, current store profit: 0.02119\n",
      "current poff: 0.6, current store profit: 0.02119\n",
      "current poff: 0.61, current store profit: 0.02119\n",
      "current poff: 0.62, current store profit: 0.02119\n",
      "current poff: 0.63, current store profit: 0.02119\n",
      "current poff: 0.64, current store profit: 0.02119\n",
      "current poff: 0.65, current store profit: 0.02119\n",
      "current poff: 0.66, current store profit: 0.02119\n",
      "current poff: 0.67, current store profit: 0.02119\n",
      "current poff: 0.68, current store profit: 0.02119\n",
      "current poff: 0.69, current store profit: 0.02119\n",
      "current poff: 0.7, current store profit: 0.02119\n",
      "current poff: 0.71, current store profit: 0.02119\n",
      "current poff: 0.72, current store profit: 0.02119\n",
      "current poff: 0.73, current store profit: 0.02119\n",
      "current poff: 0.74, current store profit: 0.02119\n",
      "current poff: 0.75, current store profit: 0.02119\n",
      "current poff: 0.76, current store profit: 0.02119\n",
      "current poff: 0.77, current store profit: 0.02119\n",
      "current poff: 0.78, current store profit: 0.02119\n",
      "current poff: 0.79, current store profit: 0.02119\n",
      "current poff: 0.8, current store profit: 0.02119\n",
      "current poff: 0.81, current store profit: 0.02119\n",
      "current poff: 0.82, current store profit: 0.02119\n",
      "current poff: 0.83, current store profit: 0.02119\n",
      "current poff: 0.84, current store profit: 0.02119\n",
      "current poff: 0.85, current store profit: 0.02119\n",
      "current poff: 0.86, current store profit: 0.02119\n",
      "current poff: 0.87, current store profit: 0.02119\n",
      "current poff: 0.88, current store profit: 0.02119\n",
      "current poff: 0.89, current store profit: 0.02119\n",
      "current poff: 0.9, current store profit: 0.02119\n",
      "current poff: 0.91, current store profit: 0.02119\n",
      "current poff: 0.92, current store profit: 0.02119\n",
      "current poff: 0.93, current store profit: 0.02119\n",
      "current poff: 0.94, current store profit: 0.02119\n",
      "current poff: 0.95, current store profit: 0.02119\n",
      "current poff: 0.96, current store profit: 0.02119\n",
      "current poff: 0.97, current store profit: 0.02119\n",
      "current poff: 0.98, current store profit: 0.02119\n",
      "current poff: 0.99, current store profit: 0.02119\n",
      "poffs:0.27, Max store pirce：0.27\n"
     ]
    },
    {
     "data": {
      "text/plain": [
       "(True, 0.027768270937500006, 0.27)"
      ]
     },
     "execution_count": 42,
     "metadata": {},
     "output_type": "execute_result"
    }
   ],
   "source": [
    "FindRationalExpectations(pon, poffs, c, con, alpha_s)"
   ]
  },
  {
   "cell_type": "code",
   "execution_count": 2,
   "metadata": {},
   "outputs": [],
   "source": [
    "pon=0.43\n",
    "poffs=0.7\n",
    "c=0.24\n",
    "con=0.1\n",
    "scenario=6"
   ]
  },
  {
   "cell_type": "code",
   "execution_count": 12,
   "metadata": {},
   "outputs": [
    {
     "data": {
      "text/plain": [
       "0.355"
      ]
     },
     "execution_count": 12,
     "metadata": {},
     "output_type": "execute_result"
    }
   ],
   "source": [
    "2 - min(1, 1 / 2 * pon + 4 * c, 3 / 2 * pon) - min(1, 1 / 2 * pon + 4 * c)"
   ]
  },
  {
   "cell_type": "code",
   "execution_count": 21,
   "metadata": {},
   "outputs": [
    {
     "name": "stdout",
     "output_type": "stream",
     "text": [
      "2\n",
      "2.2\n",
      "2.2.2\n",
      "0.255 0\n"
     ]
    }
   ],
   "source": [
    "if 1 - pon - 2 * c >= 2 * c - 1 / 2 * pon:\n",
    "    print(\"1\")\n",
    "    if con >= 1 - pon - 2 * c:\n",
    "        alpha_o = 1 / (2 * con) * (2 - 2 * pon - 4 * c) * (2 * c - 1 / 2 * pon)\n",
    "        alpha_so_prior = 1 / (2 * con) * (1 - 1 / 2 * pon - 4 * c) * (1 - 1 / 2 * pon - 4 * c)\n",
    "    elif con >= 2 * c - 1 / 2 * pon:\n",
    "        alpha_o = 1 / (2 * con) * (2 - 2 * pon - 4 * c) * (2 * c - 1 / 2 * pon)\n",
    "        alpha_so_prior = 1 / (2 * con) * (2 - 3 / 2 * pon - 6 * c - con) * (con - 2 * c + 1 / 2 * pon)\n",
    "    else:\n",
    "        alpha_o = 1 / (2 * con) * con * (2 - 3 * pon - 2 * con)\n",
    "        alpha_so_prior = 0\n",
    "else:\n",
    "    # assume that 1-pon-2c < 2 *c -1/2 * pon. SO will not emerge.\n",
    "    print(\"2\")\n",
    "    alpha_so_prior = 0\n",
    "    if pon >= 2 / 3:\n",
    "        print(\"2.1\")\n",
    "        alpha_o = 0\n",
    "    else:\n",
    "        print(\"2.2\")\n",
    "        if con > 1 / 2 * (1 - 3 / 2 * pon):\n",
    "            print(\"2.2.1\")\n",
    "            alpha_o = 1 / (2 * con) * (1 - 3 / 2 * pon) * 1 / 2 * (1 - 3 / 2 * pon)\n",
    "        else:\n",
    "            print(\"2.2.2\")\n",
    "            alpha_o = 1 / (2 * con) * con * (2 - 2 * con - 3 * pon)\n",
    "print(alpha_o, alpha_so_prior)"
   ]
  },
  {
   "cell_type": "code",
   "execution_count": 22,
   "metadata": {},
   "outputs": [
    {
     "data": {
      "text/plain": [
       "True"
      ]
     },
     "execution_count": 22,
     "metadata": {},
     "output_type": "execute_result"
    }
   ],
   "source": [
    "pon =0.35\n",
    "poffs =0.25\n",
    "c=0.24\n",
    "con=0.1\n",
    "1 / 2 * pon + 2 * c >= poffs and poffs < 1 - 2 * c and 1 / 2 * poffs - 3 / 4 * pon + c >= con"
   ]
  },
  {
   "cell_type": "code",
   "execution_count": 25,
   "metadata": {},
   "outputs": [
    {
     "data": {
      "text/plain": [
       "True"
      ]
     },
     "execution_count": 25,
     "metadata": {},
     "output_type": "execute_result"
    }
   ],
   "source": [
    " 1 / 2 * poffs - 3 / 4 * pon + c >= con"
   ]
  },
  {
   "cell_type": "code",
   "execution_count": null,
   "metadata": {},
   "outputs": [],
   "source": []
  }
 ],
 "metadata": {
  "kernelspec": {
   "display_name": "Python 3",
   "language": "python",
   "name": "python3"
  },
  "language_info": {
   "codemirror_mode": {
    "name": "ipython",
    "version": 3
   },
   "file_extension": ".py",
   "mimetype": "text/x-python",
   "name": "python",
   "nbconvert_exporter": "python",
   "pygments_lexer": "ipython3",
   "version": "3.7.3"
  }
 },
 "nbformat": 4,
 "nbformat_minor": 2
}
